{
 "cells": [
  {
   "cell_type": "code",
   "execution_count": null,
   "metadata": {},
   "outputs": [],
   "source": [
    "import numpy as np\n",
    "from time import time\n",
    "from KKMeans import KKMeans"
   ]
  },
  {
   "cell_type": "code",
   "execution_count": null,
   "metadata": {},
   "outputs": [],
   "source": [
    "import matplotlib.pyplot as plt\n",
    "from sklearn.datasets import make_blobs, make_circles\n",
    "from sklearn.cluster import KMeans"
   ]
  },
  {
   "cell_type": "code",
   "execution_count": null,
   "metadata": {},
   "outputs": [],
   "source": [
    "n_samples = 500\n",
    "n_features = 3\n",
    "n_clusters = 300\n",
    "iters = 20\n",
    "for seed in range(iters):\n",
    "    data, labels = make_blobs(n_samples, n_features, centers=n_clusters, random_state=seed)\n",
    "    kkm = KKMeans(n_clusters=n_clusters, init=\"random\", algorithm=\"lloyd\", rng=seed)\n",
    "    kkme = KKMeans(n_clusters=n_clusters, init=\"random\", algorithm=\"elkan\", rng=seed)\n",
    "    kkm.fit(data)\n",
    "    kkme.fit(data)\n",
    "    print(seed)\n",
    "    assert all(kkm.labels_ == kkme.labels_)\n",
    "    assert np.isclose(kkm.quality_, kkme.quality_)\n",
    "    assert np.isclose(kkm.quality_, kkme.quality_)\n",
    "\n"
   ]
  },
  {
   "cell_type": "code",
   "execution_count": null,
   "metadata": {},
   "outputs": [],
   "source": [
    "iter = 20\n",
    "elkan_store = []\n",
    "lloyd_store = []\n",
    "\n",
    "n_c = 20\n",
    "size = 2000\n",
    "\n",
    "tol = 1e-4\n",
    "inits= 3\n",
    "initmethod = \"kmeans++\"\n",
    "verb = False\n",
    "max_iter = 100\n",
    "\n",
    "for i in range(iter):\n",
    "    print(i)\n",
    "    x, labels, centers = make_blobs(size, centers=n_c, return_centers = True, random_state = i, n_features = 2)\n",
    "\n",
    "    kkml =  KKMeans(n_clusters = n_c, verbose=verb, init =initmethod, kernel = \"linear\", rng=i, tol=tol, n_init=inits, q_metric=\"inertia\", algorithm=\"lloyd\", max_iter=max_iter)\n",
    "    kkme =  KKMeans(n_clusters = n_c, verbose=verb, init =initmethod, kernel = \"linear\", rng=i, tol=tol, n_init=inits, q_metric=\"inertia\", algorithm=\"elkan\", max_iter = max_iter)\n",
    "\n",
    "    start = time()\n",
    "    kkml.fit(x)\n",
    "    end = time()\n",
    "    lloyd_store.append(end - start)\n",
    "    start = time()\n",
    "    kkme.fit(x)\n",
    "    end = time()\n",
    "    elkan_store.append(end - start)\n",
    "    assert(all(kkml.labels_ == kkme.labels_))\n",
    "    assert(np.isclose(kkml.quality_, kkme.quality_))\n",
    "    \n",
    "\n",
    "print(sum(elkan_store)/len(elkan_store))\n",
    "print(sum(lloyd_store)/len(lloyd_store))"
   ]
  },
  {
   "cell_type": "code",
   "execution_count": null,
   "metadata": {},
   "outputs": [],
   "source": []
  },
  {
   "cell_type": "code",
   "execution_count": null,
   "metadata": {},
   "outputs": [],
   "source": []
  }
 ],
 "metadata": {
  "kernelspec": {
   "display_name": "base",
   "language": "python",
   "name": "python3"
  },
  "language_info": {
   "codemirror_mode": {
    "name": "ipython",
    "version": 3
   },
   "file_extension": ".py",
   "mimetype": "text/x-python",
   "name": "python",
   "nbconvert_exporter": "python",
   "pygments_lexer": "ipython3",
   "version": "3.9.13"
  },
  "orig_nbformat": 4
 },
 "nbformat": 4,
 "nbformat_minor": 2
}
