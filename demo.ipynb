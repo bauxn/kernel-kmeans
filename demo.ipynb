{
 "cells": [
  {
   "cell_type": "code",
   "execution_count": null,
   "id": "d8d1b311",
   "metadata": {},
   "outputs": [],
   "source": [
    "import numpy as np\n",
    "from time import time\n",
    "from lloyd import update_lloyd\n",
    "from utils import calc_sq_distances, fill_empty_clusters\n",
    "from kernels import build_kernel_matrix\n",
    "from quality import calc_silhouettes\n",
    "from elkan import update_elkan, start_elkan\n"
   ]
  },
  {
   "cell_type": "code",
   "execution_count": null,
   "id": "49e27c9b",
   "metadata": {},
   "outputs": [],
   "source": [
    "from kernel_kmeans import KKMeans"
   ]
  },
  {
   "cell_type": "code",
   "execution_count": null,
   "id": "d37f3572",
   "metadata": {},
   "outputs": [],
   "source": [
    "import matplotlib.pyplot as plt\n",
    "from sklearn.datasets import make_blobs, make_circles\n",
    "from sklearn.cluster import KMeans"
   ]
  },
  {
   "cell_type": "code",
   "execution_count": null,
   "id": "349f6870",
   "metadata": {},
   "outputs": [],
   "source": [
    "def visualize(data, labels):\n",
    "    if len(data[0]) > 3:\n",
    "        raise Exception(\"Dimensionality is too high for visualization\")\n",
    "    elif len(data[0]) == 1:\n",
    "        plt.scatter(data, [0 for x in range(len(data))], c = labels)\n",
    "    elif len(data[0]) == 2:\n",
    "        plt.scatter(data[:,0], data[:,1], c = labels)\n",
    "    elif len(data[0]) == 3:\n",
    "        fig = plt.figure()\n",
    "        ax = fig.add_subplot(projection = \"3d\")\n",
    "        ax.scatter(data[:,0], data[:,1], data[:,2], c = labels)"
   ]
  },
  {
   "cell_type": "code",
   "execution_count": null,
   "id": "ccca70d7",
   "metadata": {},
   "outputs": [],
   "source": [
    "n_samples = 500\n",
    "n_features = 3\n",
    "n_clusters = 300\n",
    "iters = 20\n",
    "for seed in range(iters):\n",
    "    data, labels = make_blobs(n_samples, n_features, centers=n_clusters, random_state=seed)\n",
    "    kkm = KKMeans(n_clusters=n_clusters, init=\"random\", algorithm=\"lloyd\", rng=seed)\n",
    "    kkme = KKMeans(n_clusters=n_clusters, init=\"random\", algorithm=\"elkan\", rng=seed)\n",
    "    kkm.fit(data)\n",
    "    kkme.fit(data)\n",
    "    assert all(kkm.labels_ == kkme.labels_)\n",
    "    assert np.isclose(kkm.quality_, kkme.quality_)\n",
    "    assert np.isclose(kkm.quality_, kkme.quality_)\n",
    "\n"
   ]
  },
  {
   "cell_type": "code",
   "execution_count": null,
   "id": "a1240b78",
   "metadata": {},
   "outputs": [],
   "source": [
    "kkm = KKMeans(n_clusters=100, init = \"kmeans++\", n_init=10, max_iter=100, algorithm=\"lloyd\", verbose=False, rng=0, q_metric=\"inertia\")"
   ]
  },
  {
   "cell_type": "code",
   "execution_count": null,
   "id": "ebe5c18c",
   "metadata": {},
   "outputs": [],
   "source": [
    "kkm.fit(data)"
   ]
  },
  {
   "cell_type": "code",
   "execution_count": null,
   "id": "a55a3b57",
   "metadata": {},
   "outputs": [],
   "source": [
    "from sklearn.cluster import KMeans\n",
    "km = KMeans(n_clusters=n_clusters, init=\"random\")\n",
    "km.fit(data)"
   ]
  },
  {
   "cell_type": "code",
   "execution_count": null,
   "id": "4d9c1e2f",
   "metadata": {},
   "outputs": [],
   "source": [
    "km.inertia_"
   ]
  },
  {
   "cell_type": "code",
   "execution_count": null,
   "id": "deadc0fb",
   "metadata": {},
   "outputs": [],
   "source": [
    "kkm = KKMeans(n_clusters = 5, verbose = False, init = \"kmeans++\", kernel = \"linear\", rng = 0, q_metric=\"silhouette\", n_init=3, tol = 1e-4, algorithm=\"lloyd\")"
   ]
  },
  {
   "cell_type": "code",
   "execution_count": null,
   "id": "3e056c7c",
   "metadata": {
    "scrolled": false
   },
   "outputs": [],
   "source": [
    "start = time()\n",
    "kkm.fit(x)\n",
    "end = time()\n",
    "print(end - start)\n",
    "visualize(x, kkm.labels_)"
   ]
  },
  {
   "cell_type": "code",
   "execution_count": null,
   "id": "4e960492",
   "metadata": {},
   "outputs": [],
   "source": [
    "x, l = make_circles(7000, factor = 0.4, random_state=0)"
   ]
  },
  {
   "cell_type": "code",
   "execution_count": null,
   "id": "c971317c",
   "metadata": {},
   "outputs": [],
   "source": [
    "kkm = KKMeans(n_clusters = 2, verbose = True, init = \"kmeans++\", kernel = \"rbf\", rng = 0, tol = 1e-4, variance=0.4, n_init = 5, q_metric=\"inertia\", algorithm=\"lloyd\")"
   ]
  },
  {
   "cell_type": "code",
   "execution_count": null,
   "id": "b8276016",
   "metadata": {},
   "outputs": [],
   "source": [
    "start = time()\n",
    "kkm.fit(x)\n",
    "end = time()\n",
    "print(end - start)\n",
    "visualize(x, kkm.labels_)"
   ]
  },
  {
   "cell_type": "code",
   "execution_count": null,
   "id": "4ff12e51",
   "metadata": {},
   "outputs": [],
   "source": [
    "visualize(x, kkm.predict(x))"
   ]
  },
  {
   "cell_type": "code",
   "execution_count": null,
   "id": "812ef964",
   "metadata": {},
   "outputs": [],
   "source": [
    "all(kkm.predict(x) == kkm.labels_)"
   ]
  },
  {
   "cell_type": "code",
   "execution_count": null,
   "id": "1e60347a",
   "metadata": {},
   "outputs": [],
   "source": [
    "n_c = 75\n",
    "size = 10000\n",
    "r_s = 0\n",
    "x, labels, centers = make_blobs(size, centers=n_c, return_centers = True, random_state = r_s, n_features = 2)"
   ]
  },
  {
   "cell_type": "code",
   "execution_count": null,
   "id": "9fe22a2c",
   "metadata": {},
   "outputs": [],
   "source": [
    "seed = 0\n",
    "tol = 1e-4\n",
    "inits= 3\n",
    "initmethod = \"kmeans++\"\n",
    "kkml =  KKMeans(n_clusters = n_c, verbose = True, init =initmethod, kernel = \"linear\", rng=seed, tol=tol, n_init=inits, q_metric=\"inertia\", algorithm=\"lloyd\")\n",
    "kkme =  KKMeans(n_clusters = n_c, verbose = True, init =initmethod, kernel = \"linear\", rng=seed, tol=tol, n_init=inits, q_metric=\"inertia\", algorithm=\"elkan\")"
   ]
  },
  {
   "cell_type": "code",
   "execution_count": null,
   "id": "e13868bd",
   "metadata": {},
   "outputs": [],
   "source": [
    "start = time()\n",
    "kkml.fit(x)\n",
    "end = time()\n",
    "print(end - start)\n",
    "visualize(x, kkml.labels_)"
   ]
  },
  {
   "cell_type": "code",
   "execution_count": null,
   "id": "0238e8ce",
   "metadata": {},
   "outputs": [],
   "source": [
    "start = time()\n",
    "kkme.fit(x)\n",
    "end = time()\n",
    "print(end - start)\n",
    "visualize(x, kkme.labels_)"
   ]
  },
  {
   "cell_type": "code",
   "execution_count": null,
   "id": "00895378",
   "metadata": {},
   "outputs": [],
   "source": [
    "print(all(kkme.labels_ == kkml.labels_))"
   ]
  },
  {
   "cell_type": "code",
   "execution_count": null,
   "id": "10272c1a",
   "metadata": {},
   "outputs": [],
   "source": [
    "iter = 20\n",
    "elkan_store = []\n",
    "lloyd_store = []\n",
    "\n",
    "n_c = 200\n",
    "size = 2000\n",
    "\n",
    "tol = 1e-4\n",
    "inits= 3\n",
    "initmethod = \"kmeans++\"\n",
    "verb = False\n",
    "max_iter = 100\n",
    "\n",
    "for i in range(iter):\n",
    "    print(i)\n",
    "    x, labels, centers = make_blobs(size, centers=n_c, return_centers = True, random_state = i, n_features = 2)\n",
    "\n",
    "    kkml =  KKMeans(n_clusters = n_c, verbose=verb, init =initmethod, kernel = \"linear\", rng=i, tol=tol, n_init=inits, q_metric=\"inertia\", algorithm=\"lloyd\", max_iter=max_iter)\n",
    "    kkme =  KKMeans(n_clusters = n_c, verbose=verb, init =initmethod, kernel = \"linear\", rng=i, tol=tol, n_init=inits, q_metric=\"inertia\", algorithm=\"elkan\", max_iter = max_iter)\n",
    "\n",
    "    start = time()\n",
    "    kkml.fit(x)\n",
    "    end = time()\n",
    "    lloyd_store.append(end - start)\n",
    "    start = time()\n",
    "    kkme.fit(x)\n",
    "    end = time()\n",
    "    elkan_store.append(end - start)\n",
    "    assert(all(kkml.labels_ == kkme.labels_))\n",
    "    assert(np.isclose(kkml.quality_, kkme.quality_))\n",
    "    \n",
    "\n",
    "print(sum(elkan_store)/len(elkan_store))\n",
    "print(sum(lloyd_store)/len(lloyd_store))"
   ]
  },
  {
   "cell_type": "code",
   "execution_count": null,
   "id": "500825d0",
   "metadata": {},
   "outputs": [],
   "source": [
    "print(sum(elkan_store)/len(elkan_store))\n",
    "print(sum(lloyd_store)/len(lloyd_store))"
   ]
  },
  {
   "cell_type": "code",
   "execution_count": null,
   "id": "17c48b1e",
   "metadata": {},
   "outputs": [],
   "source": [
    "visualize(x, kkml.labels_)"
   ]
  },
  {
   "cell_type": "code",
   "execution_count": null,
   "id": "778ad493",
   "metadata": {},
   "outputs": [],
   "source": [
    "visualize(x, labels)"
   ]
  },
  {
   "cell_type": "code",
   "execution_count": null,
   "id": "29852a9d",
   "metadata": {},
   "outputs": [],
   "source": [
    "help(KKMeans)"
   ]
  },
  {
   "cell_type": "code",
   "execution_count": null,
   "id": "e3f8b61c",
   "metadata": {},
   "outputs": [],
   "source": []
  },
  {
   "cell_type": "code",
   "execution_count": null,
   "id": "269c0767",
   "metadata": {},
   "outputs": [],
   "source": []
  }
 ],
 "metadata": {
  "kernelspec": {
   "display_name": "Python 3 (ipykernel)",
   "language": "python",
   "name": "python3"
  },
  "language_info": {
   "codemirror_mode": {
    "name": "ipython",
    "version": 3
   },
   "file_extension": ".py",
   "mimetype": "text/x-python",
   "name": "python",
   "nbconvert_exporter": "python",
   "pygments_lexer": "ipython3",
   "version": "3.9.13"
  }
 },
 "nbformat": 4,
 "nbformat_minor": 5
}
